{
 "cells": [
  {
   "cell_type": "code",
   "execution_count": 1,
   "id": "bc3ee802",
   "metadata": {},
   "outputs": [
    {
     "name": "stdout",
     "output_type": "stream",
     "text": [
      "{'West': 11, 'South': 13, 'Canada': 1, 'Northeast': 11, 'Midwest': 10}\n"
     ]
    }
   ],
   "source": [
    "# Define the state_to_region mapping\n",
    "state_to_region = {\n",
    "    'AK': 'West',\n",
    "    'AL': 'South',\n",
    "    'AR': 'South',\n",
    "    'AZ': 'West',\n",
    "    'CA': 'West',\n",
    "    'Canada': 'Canada',\n",
    "    'CO': 'West',\n",
    "    'CT': 'Northeast',\n",
    "    'DC': 'Northeast',\n",
    "    'DE': 'Northeast',\n",
    "    'FL': 'South',\n",
    "    'GA': 'South',\n",
    "    'HI': 'West',\n",
    "    'IA': 'Midwest',\n",
    "    'ID': 'West',\n",
    "    'IL': 'Midwest',\n",
    "    'IN': 'Midwest',\n",
    "    'KS': 'Midwest',\n",
    "    'KY': 'South',\n",
    "    'LA': 'South',\n",
    "    'MA': 'Northeast',\n",
    "    'MD': 'Northeast',\n",
    "    'MI': 'Midwest',\n",
    "    'MN': 'Midwest',\n",
    "    'MO': 'Midwest',\n",
    "    'MS': 'South',\n",
    "    'MT': 'West',\n",
    "    'NC': 'South',\n",
    "    'NE': 'Midwest',\n",
    "    'NH': 'Northeast',\n",
    "    'NJ': 'Northeast',\n",
    "    'NV': 'West',\n",
    "    'NY': 'Northeast',\n",
    "    'OH': 'Midwest',\n",
    "    'OK': 'South',\n",
    "    'OR': 'West',\n",
    "    'PA': 'Northeast',\n",
    "    'RI': 'Northeast',\n",
    "    'SC': 'South',\n",
    "    'TN': 'South',\n",
    "    'TX': 'South',\n",
    "    'UT': 'West',\n",
    "    'VA': 'South',\n",
    "    'VT': 'Northeast',\n",
    "    'WA': 'West',\n",
    "    'WI': 'Midwest'\n",
    "}\n",
    "\n",
    "# Define the list of states\n",
    "states = ['AK', 'AL', 'AR', 'AZ', 'CA', 'Canada', 'CO', 'CT', 'DC', 'DE', 'FL', 'GA', 'HI', 'IA', 'ID', 'IL', 'IN', 'KS', 'KY', 'LA', 'MA', 'MD', 'MI', 'MN', 'MO', 'MS', 'MT', 'NC', 'NE', 'NH', 'NJ', 'NV', 'NY', 'OH', 'OK', 'OR', 'PA', 'RI', 'SC', 'TN', 'TX', 'UT', 'VA', 'VT', 'WA', 'WI']\n",
    "\n",
    "# Create a dictionary to count the number of states in each region\n",
    "region_counts = {}\n",
    "for state in states:\n",
    "    if state_to_region[state] is not None:\n",
    "        if state_to_region[state] in region_counts:\n",
    "            region_counts[state_to_region[state]] += 1\n",
    "        else:\n",
    "            region_counts[state_to_region[state]] = 1\n",
    "\n",
    "# Print the resulting dictionary of region counts\n",
    "print(region_counts)"
   ]
  },
  {
   "cell_type": "code",
   "execution_count": null,
   "id": "bccbc05a",
   "metadata": {},
   "outputs": [],
   "source": []
  }
 ],
 "metadata": {
  "kernelspec": {
   "display_name": "Python 3 (ipykernel)",
   "language": "python",
   "name": "python3"
  },
  "language_info": {
   "codemirror_mode": {
    "name": "ipython",
    "version": 3
   },
   "file_extension": ".py",
   "mimetype": "text/x-python",
   "name": "python",
   "nbconvert_exporter": "python",
   "pygments_lexer": "ipython3",
   "version": "3.9.13"
  }
 },
 "nbformat": 4,
 "nbformat_minor": 5
}
